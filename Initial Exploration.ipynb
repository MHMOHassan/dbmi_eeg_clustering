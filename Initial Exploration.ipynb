{
 "cells": [
  {
   "cell_type": "code",
   "execution_count": 3,
   "metadata": {},
   "outputs": [],
   "source": [
    "#https://pypi.org/project/pyEDFlib/\n",
    "import sys, os"
   ]
  },
  {
   "cell_type": "code",
   "execution_count": 4,
   "metadata": {},
   "outputs": [],
   "source": [
    "sys.path.append(os.path.realpath(\"/home/saqibm128/miniconda3/envs/keras/lib/python3.7/site-packages\"))"
   ]
  },
  {
   "cell_type": "code",
   "execution_count": 26,
   "metadata": {},
   "outputs": [],
   "source": [
    "import pandas as pd\n",
    "import numpy as np\n",
    "import pyedflib as edf"
   ]
  },
  {
   "cell_type": "code",
   "execution_count": 7,
   "metadata": {},
   "outputs": [],
   "source": [
    "testfile = \"/mnt/c/Users/sawer/src/dbmi/tuh/v1.5.0/edf/train/02_tcp_le/000/00000002/s001_2002_12_23/00000002_s001_t000.edf\""
   ]
  },
  {
   "cell_type": "code",
   "execution_count": 10,
   "metadata": {},
   "outputs": [],
   "source": [
    "reader = edf.EdfReader(testfile)"
   ]
  },
  {
   "cell_type": "code",
   "execution_count": 17,
   "metadata": {},
   "outputs": [
    {
     "data": {
      "text/plain": [
       "[{'label': 'EEG FP1-LE',\n",
       "  'dimension': 'uV',\n",
       "  'sample_rate': 250,\n",
       "  'physical_max': 4999.85,\n",
       "  'physical_min': -4999.85,\n",
       "  'digital_max': 32767,\n",
       "  'digital_min': -32767,\n",
       "  'prefilter': 'HP:-1.000 Hz LP:-2.0 Hz N:0.0',\n",
       "  'transducer': ''},\n",
       " {'label': 'EEG FP2-LE',\n",
       "  'dimension': 'uV',\n",
       "  'sample_rate': 250,\n",
       "  'physical_max': 4999.85,\n",
       "  'physical_min': -4999.85,\n",
       "  'digital_max': 32767,\n",
       "  'digital_min': -32767,\n",
       "  'prefilter': 'HP:-1.000 Hz LP:-2.0 Hz N:0.0',\n",
       "  'transducer': ''},\n",
       " {'label': 'EEG F3-LE',\n",
       "  'dimension': 'uV',\n",
       "  'sample_rate': 250,\n",
       "  'physical_max': 4999.85,\n",
       "  'physical_min': -4999.85,\n",
       "  'digital_max': 32767,\n",
       "  'digital_min': -32767,\n",
       "  'prefilter': 'HP:-1.000 Hz LP:-2.0 Hz N:0.0',\n",
       "  'transducer': ''},\n",
       " {'label': 'EEG F4-LE',\n",
       "  'dimension': 'uV',\n",
       "  'sample_rate': 250,\n",
       "  'physical_max': 4999.85,\n",
       "  'physical_min': -4999.85,\n",
       "  'digital_max': 32767,\n",
       "  'digital_min': -32767,\n",
       "  'prefilter': 'HP:-1.000 Hz LP:-2.0 Hz N:0.0',\n",
       "  'transducer': ''},\n",
       " {'label': 'EEG C3-LE',\n",
       "  'dimension': 'uV',\n",
       "  'sample_rate': 250,\n",
       "  'physical_max': 4999.85,\n",
       "  'physical_min': -4999.85,\n",
       "  'digital_max': 32767,\n",
       "  'digital_min': -32767,\n",
       "  'prefilter': 'HP:-1.000 Hz LP:-2.0 Hz N:0.0',\n",
       "  'transducer': ''},\n",
       " {'label': 'EEG C4-LE',\n",
       "  'dimension': 'uV',\n",
       "  'sample_rate': 250,\n",
       "  'physical_max': 4999.85,\n",
       "  'physical_min': -4999.85,\n",
       "  'digital_max': 32767,\n",
       "  'digital_min': -32767,\n",
       "  'prefilter': 'HP:-1.000 Hz LP:-2.0 Hz N:0.0',\n",
       "  'transducer': ''},\n",
       " {'label': 'EEG A1-LE',\n",
       "  'dimension': 'uV',\n",
       "  'sample_rate': 250,\n",
       "  'physical_max': 4999.85,\n",
       "  'physical_min': -4999.85,\n",
       "  'digital_max': 32767,\n",
       "  'digital_min': -32767,\n",
       "  'prefilter': 'HP:-1.000 Hz LP:-2.0 Hz N:0.0',\n",
       "  'transducer': ''},\n",
       " {'label': 'EEG A2-LE',\n",
       "  'dimension': 'uV',\n",
       "  'sample_rate': 250,\n",
       "  'physical_max': 4999.85,\n",
       "  'physical_min': -4999.85,\n",
       "  'digital_max': 32767,\n",
       "  'digital_min': -32767,\n",
       "  'prefilter': 'HP:-1.000 Hz LP:-2.0 Hz N:0.0',\n",
       "  'transducer': ''},\n",
       " {'label': 'EEG P3-LE',\n",
       "  'dimension': 'uV',\n",
       "  'sample_rate': 250,\n",
       "  'physical_max': 4999.85,\n",
       "  'physical_min': -4999.85,\n",
       "  'digital_max': 32767,\n",
       "  'digital_min': -32767,\n",
       "  'prefilter': 'HP:-1.000 Hz LP:-2.0 Hz N:0.0',\n",
       "  'transducer': ''},\n",
       " {'label': 'EEG P4-LE',\n",
       "  'dimension': 'uV',\n",
       "  'sample_rate': 250,\n",
       "  'physical_max': 4999.85,\n",
       "  'physical_min': -4999.85,\n",
       "  'digital_max': 32767,\n",
       "  'digital_min': -32767,\n",
       "  'prefilter': 'HP:-1.000 Hz LP:-2.0 Hz N:0.0',\n",
       "  'transducer': ''},\n",
       " {'label': 'EEG O1-LE',\n",
       "  'dimension': 'uV',\n",
       "  'sample_rate': 250,\n",
       "  'physical_max': 4999.85,\n",
       "  'physical_min': -4999.85,\n",
       "  'digital_max': 32767,\n",
       "  'digital_min': -32767,\n",
       "  'prefilter': 'HP:-1.000 Hz LP:-2.0 Hz N:0.0',\n",
       "  'transducer': ''},\n",
       " {'label': 'EEG O2-LE',\n",
       "  'dimension': 'uV',\n",
       "  'sample_rate': 250,\n",
       "  'physical_max': 4999.85,\n",
       "  'physical_min': -4999.85,\n",
       "  'digital_max': 32767,\n",
       "  'digital_min': -32767,\n",
       "  'prefilter': 'HP:-1.000 Hz LP:-2.0 Hz N:0.0',\n",
       "  'transducer': ''},\n",
       " {'label': 'EEG F7-LE',\n",
       "  'dimension': 'uV',\n",
       "  'sample_rate': 250,\n",
       "  'physical_max': 4999.85,\n",
       "  'physical_min': -4999.85,\n",
       "  'digital_max': 32767,\n",
       "  'digital_min': -32767,\n",
       "  'prefilter': 'HP:-1.000 Hz LP:-2.0 Hz N:0.0',\n",
       "  'transducer': ''},\n",
       " {'label': 'EEG F8-LE',\n",
       "  'dimension': 'uV',\n",
       "  'sample_rate': 250,\n",
       "  'physical_max': 4999.85,\n",
       "  'physical_min': -4999.85,\n",
       "  'digital_max': 32767,\n",
       "  'digital_min': -32767,\n",
       "  'prefilter': 'HP:-1.000 Hz LP:-2.0 Hz N:0.0',\n",
       "  'transducer': ''},\n",
       " {'label': 'EEG T3-LE',\n",
       "  'dimension': 'uV',\n",
       "  'sample_rate': 250,\n",
       "  'physical_max': 4999.85,\n",
       "  'physical_min': -4999.85,\n",
       "  'digital_max': 32767,\n",
       "  'digital_min': -32767,\n",
       "  'prefilter': 'HP:-1.000 Hz LP:-2.0 Hz N:0.0',\n",
       "  'transducer': ''},\n",
       " {'label': 'EEG T4-LE',\n",
       "  'dimension': 'uV',\n",
       "  'sample_rate': 250,\n",
       "  'physical_max': 4999.85,\n",
       "  'physical_min': -4999.85,\n",
       "  'digital_max': 32767,\n",
       "  'digital_min': -32767,\n",
       "  'prefilter': 'HP:-1.000 Hz LP:-2.0 Hz N:0.0',\n",
       "  'transducer': ''},\n",
       " {'label': 'EEG T5-LE',\n",
       "  'dimension': 'uV',\n",
       "  'sample_rate': 250,\n",
       "  'physical_max': 4999.85,\n",
       "  'physical_min': -4999.85,\n",
       "  'digital_max': 32767,\n",
       "  'digital_min': -32767,\n",
       "  'prefilter': 'HP:-1.000 Hz LP:-2.0 Hz N:0.0',\n",
       "  'transducer': ''},\n",
       " {'label': 'EEG T6-LE',\n",
       "  'dimension': 'uV',\n",
       "  'sample_rate': 250,\n",
       "  'physical_max': 4999.85,\n",
       "  'physical_min': -4999.85,\n",
       "  'digital_max': 32767,\n",
       "  'digital_min': -32767,\n",
       "  'prefilter': 'HP:-1.000 Hz LP:-2.0 Hz N:0.0',\n",
       "  'transducer': ''},\n",
       " {'label': 'EEG FZ-LE',\n",
       "  'dimension': 'uV',\n",
       "  'sample_rate': 250,\n",
       "  'physical_max': 4999.85,\n",
       "  'physical_min': -4999.85,\n",
       "  'digital_max': 32767,\n",
       "  'digital_min': -32767,\n",
       "  'prefilter': 'HP:-1.000 Hz LP:-2.0 Hz N:0.0',\n",
       "  'transducer': ''},\n",
       " {'label': 'EEG CZ-LE',\n",
       "  'dimension': 'uV',\n",
       "  'sample_rate': 250,\n",
       "  'physical_max': 4999.85,\n",
       "  'physical_min': -4999.85,\n",
       "  'digital_max': 32767,\n",
       "  'digital_min': -32767,\n",
       "  'prefilter': 'HP:-1.000 Hz LP:-2.0 Hz N:0.0',\n",
       "  'transducer': ''},\n",
       " {'label': 'EEG PZ-LE',\n",
       "  'dimension': 'uV',\n",
       "  'sample_rate': 250,\n",
       "  'physical_max': 4999.85,\n",
       "  'physical_min': -4999.85,\n",
       "  'digital_max': 32767,\n",
       "  'digital_min': -32767,\n",
       "  'prefilter': 'HP:-1.000 Hz LP:-2.0 Hz N:0.0',\n",
       "  'transducer': ''},\n",
       " {'label': 'EEG OZ-LE',\n",
       "  'dimension': 'uV',\n",
       "  'sample_rate': 250,\n",
       "  'physical_max': 4999.85,\n",
       "  'physical_min': -4999.85,\n",
       "  'digital_max': 32767,\n",
       "  'digital_min': -32767,\n",
       "  'prefilter': 'HP:-1.000 Hz LP:-2.0 Hz N:0.0',\n",
       "  'transducer': ''},\n",
       " {'label': 'EEG PG1-LE',\n",
       "  'dimension': 'uV',\n",
       "  'sample_rate': 250,\n",
       "  'physical_max': 4999.85,\n",
       "  'physical_min': -4999.85,\n",
       "  'digital_max': 32767,\n",
       "  'digital_min': -32767,\n",
       "  'prefilter': 'HP:-1.000 Hz LP:-2.0 Hz N:0.0',\n",
       "  'transducer': ''},\n",
       " {'label': 'EEG PG2-LE',\n",
       "  'dimension': 'uV',\n",
       "  'sample_rate': 250,\n",
       "  'physical_max': 4999.85,\n",
       "  'physical_min': -4999.85,\n",
       "  'digital_max': 32767,\n",
       "  'digital_min': -32767,\n",
       "  'prefilter': 'HP:-1.000 Hz LP:-2.0 Hz N:0.0',\n",
       "  'transducer': ''},\n",
       " {'label': 'EEG EKG-LE',\n",
       "  'dimension': 'uV',\n",
       "  'sample_rate': 250,\n",
       "  'physical_max': 4999.85,\n",
       "  'physical_min': -4999.85,\n",
       "  'digital_max': 32767,\n",
       "  'digital_min': -32767,\n",
       "  'prefilter': 'HP:-1.000 Hz LP:-2.0 Hz N:0.0',\n",
       "  'transducer': ''},\n",
       " {'label': 'EEG SP2-LE',\n",
       "  'dimension': 'uV',\n",
       "  'sample_rate': 250,\n",
       "  'physical_max': 4999.85,\n",
       "  'physical_min': -4999.85,\n",
       "  'digital_max': 32767,\n",
       "  'digital_min': -32767,\n",
       "  'prefilter': 'HP:-1.000 Hz LP:-2.0 Hz N:0.0',\n",
       "  'transducer': ''},\n",
       " {'label': 'EEG SP1-LE',\n",
       "  'dimension': 'uV',\n",
       "  'sample_rate': 250,\n",
       "  'physical_max': 4999.85,\n",
       "  'physical_min': -4999.85,\n",
       "  'digital_max': 32767,\n",
       "  'digital_min': -32767,\n",
       "  'prefilter': 'HP:-1.000 Hz LP:-2.0 Hz N:0.0',\n",
       "  'transducer': ''},\n",
       " {'label': 'EEG RLC-LE',\n",
       "  'dimension': 'uV',\n",
       "  'sample_rate': 250,\n",
       "  'physical_max': 4999.85,\n",
       "  'physical_min': -4999.85,\n",
       "  'digital_max': 32767,\n",
       "  'digital_min': -32767,\n",
       "  'prefilter': 'HP:-1.000 Hz LP:-2.0 Hz N:0.0',\n",
       "  'transducer': ''},\n",
       " {'label': 'EEG LUC-LE',\n",
       "  'dimension': 'uV',\n",
       "  'sample_rate': 250,\n",
       "  'physical_max': 4999.85,\n",
       "  'physical_min': -4999.85,\n",
       "  'digital_max': 32767,\n",
       "  'digital_min': -32767,\n",
       "  'prefilter': 'HP:-1.000 Hz LP:-2.0 Hz N:0.0',\n",
       "  'transducer': ''},\n",
       " {'label': 'EEG 30-LE',\n",
       "  'dimension': 'uV',\n",
       "  'sample_rate': 250,\n",
       "  'physical_max': 4999.85,\n",
       "  'physical_min': -4999.85,\n",
       "  'digital_max': 32767,\n",
       "  'digital_min': -32767,\n",
       "  'prefilter': 'HP:-1.000 Hz LP:-2.0 Hz N:0.0',\n",
       "  'transducer': ''},\n",
       " {'label': 'EEG T1-LE',\n",
       "  'dimension': 'uV',\n",
       "  'sample_rate': 250,\n",
       "  'physical_max': 4999.85,\n",
       "  'physical_min': -4999.85,\n",
       "  'digital_max': 32767,\n",
       "  'digital_min': -32767,\n",
       "  'prefilter': 'HP:-1.000 Hz LP:-2.0 Hz N:0.0',\n",
       "  'transducer': ''},\n",
       " {'label': 'EEG T2-LE',\n",
       "  'dimension': 'uV',\n",
       "  'sample_rate': 250,\n",
       "  'physical_max': 4999.85,\n",
       "  'physical_min': -4999.85,\n",
       "  'digital_max': 32767,\n",
       "  'digital_min': -32767,\n",
       "  'prefilter': 'HP:-1.000 Hz LP:-2.0 Hz N:0.0',\n",
       "  'transducer': ''},\n",
       " {'label': 'PHOTIC PH',\n",
       "  'dimension': 'mm',\n",
       "  'sample_rate': 250,\n",
       "  'physical_max': 32767.0,\n",
       "  'physical_min': -32767.0,\n",
       "  'digital_max': 32767,\n",
       "  'digital_min': -32767,\n",
       "  'prefilter': 'HP:-1.000 Hz LP:-2.0 Hz N:0.0',\n",
       "  'transducer': 'EEG'}]"
      ]
     },
     "execution_count": 17,
     "metadata": {},
     "output_type": "execute_result"
    }
   ],
   "source": [
    "labels = reader.getSignalHeaders()\n",
    "labels"
   ]
  },
  {
   "cell_type": "code",
   "execution_count": 31,
   "metadata": {},
   "outputs": [
    {
     "data": {
      "text/plain": [
       "33"
      ]
     },
     "execution_count": 31,
     "metadata": {},
     "output_type": "execute_result"
    }
   ],
   "source": [
    "len(labels)"
   ]
  },
  {
   "cell_type": "code",
   "execution_count": 20,
   "metadata": {},
   "outputs": [
    {
     "data": {
      "text/plain": [
       "33"
      ]
     },
     "execution_count": 20,
     "metadata": {},
     "output_type": "execute_result"
    }
   ],
   "source": [
    "n = reader.signals_in_file\n",
    "n"
   ]
  },
  {
   "cell_type": "code",
   "execution_count": 28,
   "metadata": {},
   "outputs": [
    {
     "data": {
      "text/plain": [
       "False"
      ]
     },
     "execution_count": 28,
     "metadata": {},
     "output_type": "execute_result"
    }
   ],
   "source": [
    "np.isnan(reader.readSignal(1).shape).any()"
   ]
  },
  {
   "cell_type": "code",
   "execution_count": 29,
   "metadata": {},
   "outputs": [
    {
     "data": {
      "text/plain": [
       "array([ 26.85548265,  16.78467666,  22.88819544, ..., -44.86086306,\n",
       "       -36.6211127 , -19.83643605])"
      ]
     },
     "execution_count": 29,
     "metadata": {},
     "output_type": "execute_result"
    }
   ],
   "source": [
    "reader.readSignal(2)"
   ]
  },
  {
   "cell_type": "code",
   "execution_count": 27,
   "metadata": {},
   "outputs": [
    {
     "data": {
      "text/plain": [
       "False"
      ]
     },
     "execution_count": 27,
     "metadata": {},
     "output_type": "execute_result"
    }
   ],
   "source": [
    "np.isnan(reader.readSignal(3)).any()"
   ]
  },
  {
   "cell_type": "markdown",
   "metadata": {},
   "source": [
    "# Setting up read function"
   ]
  },
  {
   "cell_type": "code",
   "execution_count": 36,
   "metadata": {},
   "outputs": [
    {
     "data": {
      "text/plain": [
       "['00007910', '00007913', '00007952']"
      ]
     },
     "execution_count": 36,
     "metadata": {},
     "output_type": "execute_result"
    }
   ],
   "source": [
    "os.listdir(\"/mnt/c/Users/sawer/src/dbmi/tuh/v1.5.0/edf/train/02_tcp_le/079\")"
   ]
  }
 ],
 "metadata": {
  "kernelspec": {
   "display_name": "Python 3",
   "language": "python",
   "name": "python3"
  },
  "language_info": {
   "codemirror_mode": {
    "name": "ipython",
    "version": 3
   },
   "file_extension": ".py",
   "mimetype": "text/x-python",
   "name": "python",
   "nbconvert_exporter": "python",
   "pygments_lexer": "ipython3",
   "version": "3.7.1"
  }
 },
 "nbformat": 4,
 "nbformat_minor": 2
}
