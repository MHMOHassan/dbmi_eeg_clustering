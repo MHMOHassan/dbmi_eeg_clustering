{
 "cells": [
  {
   "cell_type": "markdown",
   "metadata": {},
   "source": [
    "# Result Parsing\n",
    "Stored results from script into a mongodb instance, gonna try to parse them here"
   ]
  },
  {
   "cell_type": "code",
   "execution_count": 9,
   "metadata": {},
   "outputs": [
    {
     "data": {
      "text/plain": [
       "<module 'util_funcs' from '/mnt/c/Users/sawer/src/dbmi/dbmi_eeg_clustering/util_funcs.py'>"
      ]
     },
     "execution_count": 9,
     "metadata": {},
     "output_type": "execute_result"
    }
   ],
   "source": [
    "import sys, os\n",
    "sys.path.append(os.path.realpath(\"/home/saqibm128/miniconda3/envs/keras/lib/python3.7/site-packages\"))\n",
    "import util_funcs\n",
    "from importlib import reload\n",
    "reload(util_funcs)"
   ]
  },
  {
   "cell_type": "code",
   "execution_count": 2,
   "metadata": {},
   "outputs": [],
   "source": [
    "successful_run = {\"status\":\"COMPLETED\", \"experiment.name\":\"EEG_K-Means_dim_red_Clustering\", \"num_eegs\": None}"
   ]
  },
  {
   "cell_type": "code",
   "execution_count": 12,
   "metadata": {},
   "outputs": [],
   "source": [
    "successful_run_pca = successful_run.copy()\n",
    "\n",
    "#we use this or clause in our query because we ran pca without this config and stored it\n",
    "successful_run_pca[\"$or\"] = [{\"dim_red\": {\"$exists\":False}}, {\"dim_red\": \"pca\"}]"
   ]
  },
  {
   "cell_type": "code",
   "execution_count": 13,
   "metadata": {},
   "outputs": [
    {
     "name": "stderr",
     "output_type": "stream",
     "text": [
      "/home/saqibm128/miniconda3/envs/keras/lib/python3.7/site-packages/sklearn/base.py:251: UserWarning: Trying to unpickle estimator FastICA from version 0.21.1 when using version 0.20.2. This might lead to breaking code or invalid results. Use at your own risk.\n",
      "  UserWarning)\n",
      "/home/saqibm128/miniconda3/envs/keras/lib/python3.7/site-packages/sklearn/base.py:251: UserWarning: Trying to unpickle estimator MiniBatchKMeans from version 0.21.1 when using version 0.20.2. This might lead to breaking code or invalid results. Use at your own risk.\n",
      "  UserWarning)\n"
     ]
    },
    {
     "data": {
      "text/plain": [
       "{'c_score': 1.0, 'cluster_pct': array([[1.],\n",
       "        [1.],\n",
       "        [1.],\n",
       "        ...,\n",
       "        [1.],\n",
       "        [1.],\n",
       "        [1.]]), 'dim_red': FastICA(algorithm='parallel', fun='logcosh', fun_args=None, max_iter=200,\n",
       "     n_components=5, random_state=None, tol=0.0001, w_init=None,\n",
       "     whiten=True), 'h_score': 3.5372257096511214e-17, 'kmeans': MiniBatchKMeans(batch_size=100, compute_labels=True, init='k-means++',\n",
       "         init_size=None, max_iter=100, max_no_improvement=10, n_clusters=1,\n",
       "         n_init=3, random_state=None, reassignment_ratio=0.01, tol=0.0,\n",
       "         verbose=0), 'nmi_score': 0.03125, 'percent_y_per_cluster':    absz  artf  atsz  bckg  chew  cnsz  cpsz  elpp  elst  eybl  ...  nesz  \\\n",
       " 0   0.0   0.0   0.0   1.0   0.0   0.0   1.0   0.0   0.0   0.0  ...   0.0   \n",
       " \n",
       "    null  pled  seiz  shiv  slow  spsw  spsz  tcsz  tnsz  \n",
       " 0   0.0   0.0   0.0   0.0   0.0   0.0   1.0   1.0   1.0  \n",
       " \n",
       " [1 rows x 27 columns], 'rand_score': 0.0, 'v_score': 7.074451419302243e-17}"
      ]
     },
     "execution_count": 13,
     "metadata": {},
     "output_type": "execute_result"
    }
   ],
   "source": [
    "util_funcs.get_sacred_results(successful_run_pca)"
   ]
  },
  {
   "cell_type": "code",
   "execution_count": null,
   "metadata": {},
   "outputs": [],
   "source": []
  }
 ],
 "metadata": {
  "kernelspec": {
   "display_name": "Python 3",
   "language": "python",
   "name": "python3"
  },
  "language_info": {
   "codemirror_mode": {
    "name": "ipython",
    "version": 3
   },
   "file_extension": ".py",
   "mimetype": "text/x-python",
   "name": "python",
   "nbconvert_exporter": "python",
   "pygments_lexer": "ipython3",
   "version": "3.7.1"
  }
 },
 "nbformat": 4,
 "nbformat_minor": 2
}
